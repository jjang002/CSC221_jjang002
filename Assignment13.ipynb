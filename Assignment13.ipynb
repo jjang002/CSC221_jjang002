{
  "nbformat": 4,
  "nbformat_minor": 0,
  "metadata": {
    "colab": {
      "provenance": []
    },
    "kernelspec": {
      "name": "python3",
      "display_name": "Python 3"
    },
    "language_info": {
      "name": "python"
    }
  },
  "cells": [
    {
      "cell_type": "code",
      "execution_count": null,
      "metadata": {
        "id": "enx3PW7a2uAf"
      },
      "outputs": [],
      "source": [
        "#CSC211 Jaeyoung Jang\n",
        "# 10-1\n",
        "with open('learning_python.txt', 'r') as file:\n",
        "    file_contents = file.read()\n",
        "    file.seek(0)\n",
        "    lines = file.readlines()\n",
        "\n",
        "print(\"Contents read by reading the entire file:\")\n",
        "print(file_contents)\n",
        "\n",
        "print(\"\\nContents read by looping over each line:\")\n",
        "for line in lines:\n",
        "    print(line.strip())"
      ]
    },
    {
      "cell_type": "code",
      "source": [
        "#10-4\n",
        "user_name = input(\"Please enter your name: \")\n",
        "\n",
        "with open('guest.txt', 'w') as file:\n",
        "    file.write(user_name)\n",
        "\n",
        "print(f\"Hello, {user_name}! Your name has been written to guest.txt.\")"
      ],
      "metadata": {
        "id": "5y0H5Vbu3Mp8"
      },
      "execution_count": null,
      "outputs": []
    },
    {
      "cell_type": "code",
      "source": [
        "def process_received_data():\n",
        "    corrected_records = []\n",
        "\n",
        "    for file_number in range(1, 4):\n",
        "        received_file = f\"as_received{file_number}.txt\"\n",
        "        with open(received_file, 'r') as received_file:\n",
        "            for line in received_file:\n",
        "                line = line.replace(\"nnn\", \"nn\").replace(\"++\", \"+\").replace(\"0O\", \"00\").replace(\"_dot_com\", \".com\")\n",
        "                line = line.replace(\"swiming\", \"swimming\").replace(\"platsburgh\", \"Plattsburgh\").replace(\"_\", \" \")\n",
        "\n",
        "                corrected_records.append(line)\n",
        "\n",
        "    unique_records = remove_duplicates(corrected_records)\n",
        "    sorted_records = sort_records(unique_records)\n",
        "    write_to_corrected_file(sorted_records)\n",
        "\n",
        "def remove_duplicates(records):\n",
        "    return list(set(records))\n",
        "\n",
        "def sort_records(records):\n",
        "    return sorted(records)\n",
        "\n",
        "def write_to_corrected_file(records):\n",
        "    with open('corrected.txt', 'w') as corrected_file:\n",
        "        corrected_file.write(\"Name, Email, Phone, Pastimes\\n\")\n",
        "        corrected_file.write('\\n'.join(records))\n",
        "\n",
        "if __name__ == \"__main__\":\n",
        "    num_records = 20\n",
        "\n",
        "    generate_source_data(num_records)\n",
        "    process_received_data()"
      ],
      "metadata": {
        "id": "8phqwSVa8QA2"
      },
      "execution_count": null,
      "outputs": []
    },
    {
      "cell_type": "code",
      "source": [
        "make_files(my_name='Jaeyoung Jang', record_count=20)"
      ],
      "metadata": {
        "id": "8T5fEihE8g5B"
      },
      "execution_count": null,
      "outputs": []
    }
  ]
}