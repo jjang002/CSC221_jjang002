{
  "nbformat": 4,
  "nbformat_minor": 0,
  "metadata": {
    "colab": {
      "provenance": []
    },
    "kernelspec": {
      "name": "python3",
      "display_name": "Python 3"
    },
    "language_info": {
      "name": "python"
    }
  },
  "cells": [
    {
      "cell_type": "markdown",
      "source": [
        "# Assignment 18\n",
        "## CSC 221\n",
        "#Jaeyoung Jang\n",
        "\n",
        "### Instructions:\n",
        "Fill in each code cell below the question. We are following along in Chapter 2 of Python Distilled."
      ],
      "metadata": {
        "id": "IAOUzGWE1eDx"
      }
    },
    {
      "cell_type": "code",
      "execution_count": null,
      "metadata": {
        "id": "Gnj3su7i5-lx"
      },
      "outputs": [],
      "source": [
        "# 2.1 Literals\n",
        "\n",
        "# Show how to compute hex 3a27 plus binary 110101111 - 30 decimal using Python literals\n",
        "\n",
        "result = 0x3a27 + 0b110101111 - 30\n",
        "print(result)"
      ]
    },
    {
      "cell_type": "code",
      "source": [
        "# 2.2 Expressions\n",
        "# I'll make you a small file in the cell below. You can just run this."
      ],
      "metadata": {
        "id": "w2uYd3DO2do6"
      },
      "execution_count": null,
      "outputs": []
    },
    {
      "cell_type": "code",
      "source": [
        "%%file small_file.txt\n",
        "I am the first line of the file.\n",
        "I am the second line. I contain secrets so please don't print me!\n",
        "I am the last line.\n"
      ],
      "metadata": {
        "colab": {
          "base_uri": "https://localhost:8080/"
        },
        "id": "Aa3ylzmV2wNF",
        "outputId": "9bbfcd76-b0a1-4b02-fc74-7b20e026f03a"
      },
      "execution_count": null,
      "outputs": [
        {
          "output_type": "stream",
          "name": "stdout",
          "text": [
            "Overwriting small_file.txt\n"
          ]
        }
      ]
    },
    {
      "cell_type": "code",
      "source": [
        "# Now fix the code below code and print all the lines of the file EXCEPT line 2\n",
        "file1 = open('small_file.txt', 'r')\n",
        "# FIX THE TWO LINES BELOW\n",
        "for line in file1:\n",
        "    if \"I contain secrets\" not in line:\n",
        "    print(line)\n",
        "file1.close()"
      ],
      "metadata": {
        "id": "RcnlhAYc26bz"
      },
      "execution_count": null,
      "outputs": []
    },
    {
      "cell_type": "code",
      "source": [
        "# 2.3 Standard Operators\n",
        "# Experiment with pow(x, y, modulo). What does modulo do?\n",
        "result = pow(5, 3, 4)\n",
        "print(result)\n",
        "# Experiment with round(x, n). What does n do? What about n=2 vs n=-2?\n",
        "number = 12.34567\n",
        "\n",
        "rounded_2 = round(number, 2)\n",
        "rounded_minus_2 = round(number, -2)\n",
        "\n",
        "print(rounded_2)\n",
        "print(rounded_minus_2)"
      ],
      "metadata": {
        "id": "my7GSDpN3i0b"
      },
      "execution_count": null,
      "outputs": []
    },
    {
      "cell_type": "code",
      "source": [
        "# 2.4 In-Place Assignment\n",
        "# What should a = [1, 2, 3] followed by a += [7, 6, 5] do? Show me!\n",
        "a = [1, 2, 3]\n",
        "a += [7, 6, 5]\n",
        "print(a)\n",
        "\n",
        "# What should a = [1, 2, 3] followed by a *= 4 do? Show me!\n",
        "a = [1, 2, 3]\n",
        "a *= 4\n",
        "print(a)\n",
        "\n"
      ],
      "metadata": {
        "id": "EFrCMekW4ojR"
      },
      "execution_count": null,
      "outputs": []
    },
    {
      "cell_type": "code",
      "source": [
        "# 2.5 Object Comparison\n",
        "# Make an exanmple showing the difference between == and is.\n",
        "list1 = [1, 2, 3]\n",
        "list2 = [1, 2, 3]\n",
        "\n",
        "print(list1 == list2)\n",
        "print(list1 is list2)"
      ],
      "metadata": {
        "id": "UWCXhW-z5la5"
      },
      "execution_count": null,
      "outputs": []
    },
    {
      "cell_type": "code",
      "source": [
        "# 2.7 Boolean Expressions and Truth\n",
        "# Why does the code below only output 'Ned'?\n",
        "def ned():\n",
        "    print('Ned')\n",
        "    return False\n",
        "def lecky():\n",
        "    print(\"lecky\")\n",
        "    return False;\n",
        "if ned() and lecky():\n",
        "    print('wrote this')\n",
        "\n",
        "# Since the conditional expression is False, the code inside the if block, which is print('wrote this'), is not executed.\n"
      ],
      "metadata": {
        "colab": {
          "base_uri": "https://localhost:8080/"
        },
        "id": "Fj_5lKR96FSS",
        "outputId": "36a666e3-61f0-4c46-c714-3ff2586dffbd"
      },
      "execution_count": null,
      "outputs": [
        {
          "output_type": "stream",
          "name": "stdout",
          "text": [
            "Ned\n"
          ]
        }
      ]
    },
    {
      "cell_type": "code",
      "source": [
        "# 2.8 Conditional Expressions\n",
        "# Convert the code called out into a one-line conditional expression...\n",
        "# And what does that format do?\n",
        "import random\n",
        "random.seed(42)\n",
        "\n",
        "def above_or_below():\n",
        "    x = random.randint(1,100)\n",
        "    # MAKE THE FOLLOWING 4 LINES INTO ONE CONDITIONAL EXPRESSION\n",
        "    y = -1 if x < 50 else 1\n",
        "    return y\n",
        "\n",
        "for i in range(10):\n",
        "    # WHAT DOES THIS LINE DO?\n",
        "    # The format() function is used to format the output.\n",
        "    print(format(above_or_below(),\"+d\"))\n",
        "\n",
        "\n"
      ],
      "metadata": {
        "colab": {
          "base_uri": "https://localhost:8080/"
        },
        "id": "9GKEDK3T6cTg",
        "outputId": "bedd326c-6887-4056-eca4-de42c5fae850"
      },
      "execution_count": null,
      "outputs": [
        {
          "output_type": "stream",
          "name": "stdout",
          "text": [
            "+1\n",
            "-1\n",
            "-1\n",
            "+1\n",
            "-1\n",
            "-1\n",
            "-1\n",
            "-1\n",
            "+1\n",
            "-1\n"
          ]
        }
      ]
    },
    {
      "cell_type": "code",
      "source": [
        "# 2.9 Iterables\n",
        "# Show an example of every iterable in Table 2.5\n",
        "\n",
        "list_iterable = [1, 2, 3, 4, 5]\n",
        "for item in list_iterable:\n",
        "    print(item)\n",
        "\n",
        "tuple_iterable = (10, 20, 30, 40, 50)\n",
        "for item in tuple_iterable:\n",
        "    print(item)\n",
        "\n",
        "range_iterable = range(1, 6)\n",
        "for num in range_iterable:\n",
        "    print(num)"
      ],
      "metadata": {
        "id": "6H9OQXgx7ecP"
      },
      "execution_count": null,
      "outputs": []
    },
    {
      "cell_type": "code",
      "source": [
        "# 2.10 Operations on Sequences\n",
        "# Show that the exam ple at the end pof section 2.10 are correct\n",
        "# The code starts with\n",
        "a = [0, 1, 2, 3, 4, 5, 6, 7, 8, 9]\n",
        "print(a[2:5])"
      ],
      "metadata": {
        "colab": {
          "base_uri": "https://localhost:8080/"
        },
        "id": "9ZO4s4n183Dq",
        "outputId": "898af34a-e9c9-4ebd-fc08-e6ee85851e21"
      },
      "execution_count": null,
      "outputs": [
        {
          "output_type": "stream",
          "name": "stdout",
          "text": [
            "[2, 3, 4]\n"
          ]
        }
      ]
    },
    {
      "cell_type": "code",
      "source": [
        "# 2.11 Operations on Mutable Sequences\n",
        "# Create a list with the first 2 million positive integers in it ([1, 2, 3, ... , 2,000,000])\n",
        "# Replace the centermost 1,000,000 integers with the string 'MiddleStuff'\n",
        "# Figure out some way to print this and look at len(this) to demonstrate that it works\n",
        "\n",
        "# INSERT YOUR CODE HERE\n",
        "numbers = list(range(1, 2000001))\n",
        "\n",
        "middle_index = len(numbers) // 2\n",
        "\n",
        "numbers[middle_index : middle_index + 1000000] = ['MiddleStuff'] * 1000000\n",
        "\n",
        "print(numbers[:10])\n",
        "print(len(numbers))"
      ],
      "metadata": {
        "id": "Gn3VwPlD9Vj0"
      },
      "execution_count": null,
      "outputs": []
    },
    {
      "cell_type": "code",
      "source": [
        "# 2.12 Operations on Sets\n",
        "# rand1 and rand2 are two independent lists of 1000 numbers between 1 and 1000 inclusive\n",
        "# What are set1 - set4?\n",
        "# How many numbers between 1 and 1000 appear in neither list?\n",
        "import random\n",
        "random.seed(42)\n",
        "\n",
        "rand1 = [random.randint(1,1000) for i in range(1000)]\n",
        "rand2 = [random.randint(1,1000) for i in range(1000)]\n",
        "set1 = set(rand1)\n",
        "set2 = set(rand2)\n",
        "set3 = set1 | set2\n",
        "set4 = set1 & set2\n",
        "print(len(set1), len(set2), len(set3), len(set4))\n",
        "\n",
        "#In this code, rand1 and rand2 are two lists of 1000 random numbers between 1 and 1000 inclusive.\n",
        "#You've created sets set1 and set2 from these lists. set1 contains unique elements from rand1, and set2 contains unique elements from rand2.\n",
        "#set3 is the union of set1 and set2, and set4 is the intersection of set1 and set2.\n",
        "# 116\n",
        "\n"
      ],
      "metadata": {
        "colab": {
          "base_uri": "https://localhost:8080/"
        },
        "id": "SBbTQw-n-G2D",
        "outputId": "58b62591-7759-4f98-d347-2f694395d634"
      },
      "execution_count": 4,
      "outputs": [
        {
          "output_type": "stream",
          "name": "stdout",
          "text": [
            "637 649 884 402\n"
          ]
        }
      ]
    },
    {
      "cell_type": "code",
      "source": [
        "# 2.14 List, Set, and Dictionary Comprehensions\n",
        "# Use a dictionary comprehension to create a dictionary that contains the square\n",
        "# and square root of the factorials from 0 to 100\n",
        "import math\n",
        "\n",
        "# Hint: Make a list of the first 100 factorials\n",
        "def factorial(n):\n",
        "    fact = 1\n",
        "    for i in range(1, n+1):\n",
        "        fact *= i\n",
        "    return fact\n",
        "fact_100 = [factorial(x) for x in range(1, 101)]\n",
        "print(fact_100)\n",
        "\n",
        "dict1 = {n: (n**2, math.sqrt(n)) for n in factorial}\n",
        "print(dict1)\n",
        "\n",
        "\n",
        "\n",
        "\n"
      ],
      "metadata": {
        "colab": {
          "base_uri": "https://localhost:8080/"
        },
        "id": "NFNFO71S_D27",
        "outputId": "4e7a6038-3433-4ebe-f1aa-c4da11fe49be"
      },
      "execution_count": null,
      "outputs": [
        {
          "output_type": "stream",
          "name": "stdout",
          "text": [
            "[1, 2, 6, 24, 120, 720, 5040, 40320, 362880, 3628800, 39916800, 479001600, 6227020800, 87178291200, 1307674368000, 20922789888000, 355687428096000, 6402373705728000, 121645100408832000, 2432902008176640000, 51090942171709440000, 1124000727777607680000, 25852016738884976640000, 620448401733239439360000, 15511210043330985984000000, 403291461126605635584000000, 10888869450418352160768000000, 304888344611713860501504000000, 8841761993739701954543616000000, 265252859812191058636308480000000, 8222838654177922817725562880000000, 263130836933693530167218012160000000, 8683317618811886495518194401280000000, 295232799039604140847618609643520000000, 10333147966386144929666651337523200000000, 371993326789901217467999448150835200000000, 13763753091226345046315979581580902400000000, 523022617466601111760007224100074291200000000, 20397882081197443358640281739902897356800000000, 815915283247897734345611269596115894272000000000, 33452526613163807108170062053440751665152000000000, 1405006117752879898543142606244511569936384000000000, 60415263063373835637355132068513997507264512000000000, 2658271574788448768043625811014615890319638528000000000, 119622220865480194561963161495657715064383733760000000000, 5502622159812088949850305428800254892961651752960000000000, 258623241511168180642964355153611979969197632389120000000000, 12413915592536072670862289047373375038521486354677760000000000, 608281864034267560872252163321295376887552831379210240000000000, 30414093201713378043612608166064768844377641568960512000000000000, 1551118753287382280224243016469303211063259720016986112000000000000, 80658175170943878571660636856403766975289505440883277824000000000000, 4274883284060025564298013753389399649690343788366813724672000000000000, 230843697339241380472092742683027581083278564571807941132288000000000000, 12696403353658275925965100847566516959580321051449436762275840000000000000, 710998587804863451854045647463724949736497978881168458687447040000000000000, 40526919504877216755680601905432322134980384796226602145184481280000000000000, 2350561331282878571829474910515074683828862318181142924420699914240000000000000, 138683118545689835737939019720389406345902876772687432540821294940160000000000000, 8320987112741390144276341183223364380754172606361245952449277696409600000000000000, 507580213877224798800856812176625227226004528988036003099405939480985600000000000000, 31469973260387937525653122354950764088012280797258232192163168247821107200000000000000, 1982608315404440064116146708361898137544773690227268628106279599612729753600000000000000, 126886932185884164103433389335161480802865516174545192198801894375214704230400000000000000, 8247650592082470666723170306785496252186258551345437492922123134388955774976000000000000000, 544344939077443064003729240247842752644293064388798874532860126869671081148416000000000000000, 36471110918188685288249859096605464427167635314049524593701628500267962436943872000000000000000, 2480035542436830599600990418569171581047399201355367672371710738018221445712183296000000000000000, 171122452428141311372468338881272839092270544893520369393648040923257279754140647424000000000000000, 11978571669969891796072783721689098736458938142546425857555362864628009582789845319680000000000000000, 850478588567862317521167644239926010288584608120796235886430763388588680378079017697280000000000000000, 61234458376886086861524070385274672740778091784697328983823014963978384987221689274204160000000000000000, 4470115461512684340891257138125051110076800700282905015819080092370422104067183317016903680000000000000000, 330788544151938641225953028221253782145683251820934971170611926835411235700971565459250872320000000000000000, 24809140811395398091946477116594033660926243886570122837795894512655842677572867409443815424000000000000000000, 1885494701666050254987932260861146558230394535379329335672487982961844043495537923117729972224000000000000000000, 145183092028285869634070784086308284983740379224208358846781574688061991349156420080065207861248000000000000000000, 11324281178206297831457521158732046228731749579488251990048962825668835325234200766245086213177344000000000000000000, 894618213078297528685144171539831652069808216779571907213868063227837990693501860533361810841010176000000000000000000, 71569457046263802294811533723186532165584657342365752577109445058227039255480148842668944867280814080000000000000000000, 5797126020747367985879734231578109105412357244731625958745865049716390179693892056256184534249745940480000000000000000000, 475364333701284174842138206989404946643813294067993328617160934076743994734899148613007131808479167119360000000000000000000, 39455239697206586511897471180120610571436503407643446275224357528369751562996629334879591940103770870906880000000000000000000, 3314240134565353266999387579130131288000666286242049487118846032383059131291716864129885722968716753156177920000000000000000000, 281710411438055027694947944226061159480056634330574206405101912752560026159795933451040286452340924018275123200000000000000000000, 24227095383672732381765523203441259715284870552429381750838764496720162249742450276789464634901319465571660595200000000000000000000, 2107757298379527717213600518699389595229783738061356212322972511214654115727593174080683423236414793504734471782400000000000000000000, 185482642257398439114796845645546284380220968949399346684421580986889562184028199319100141244804501828416633516851200000000000000000000, 16507955160908461081216919262453619309839666236496541854913520707833171034378509739399912570787600662729080382999756800000000000000000000, 1485715964481761497309522733620825737885569961284688766942216863704985393094065876545992131370884059645617234469978112000000000000000000000, 135200152767840296255166568759495142147586866476906677791741734597153670771559994765685283954750449427751168336768008192000000000000000000000, 12438414054641307255475324325873553077577991715875414356840239582938137710983519518443046123837041347353107486982656753664000000000000000000000, 1156772507081641574759205162306240436214753229576413535186142281213246807121467315215203289516844845303838996289387078090752000000000000000000000, 108736615665674308027365285256786601004186803580182872307497374434045199869417927630229109214583415458560865651202385340530688000000000000000000000, 10329978488239059262599702099394727095397746340117372869212250571234293987594703124871765375385424468563282236864226607350415360000000000000000000000, 991677934870949689209571401541893801158183648651267795444376054838492222809091499987689476037000748982075094738965754305639874560000000000000000000000, 96192759682482119853328425949563698712343813919172976158104477319333745612481875498805879175589072651261284189679678167647067832320000000000000000000000, 9426890448883247745626185743057242473809693764078951663494238777294707070023223798882976159207729119823605850588608460429412647567360000000000000000000000, 933262154439441526816992388562667004907159682643816214685929638952175999932299156089414639761565182862536979208272237582511852109168640000000000000000000000, 93326215443944152681699238856266700490715968264381621468592963895217599993229915608941463976156518286253697920827223758251185210916864000000000000000000000000]\n"
          ]
        }
      ]
    },
    {
      "cell_type": "code",
      "source": [
        "# 2.15 Generator Expression\n",
        "# Show that the code that begins with\n",
        "# Read a file\n",
        "# f = open....\n",
        "# in Section 2.15 actually print all the lines in a file that begin with a '#'\n",
        "\n",
        "# INSERT YOUR CODE HERE\n",
        "with open('your_file.txt', 'r') as file:\n",
        "    for line in file:\n",
        "        if line.startswith('#'):\n",
        "            print(line)"
      ],
      "metadata": {
        "id": "i901rirUBpy6",
        "outputId": "6f753dde-c404-459a-ecbb-4e13baeaa586",
        "colab": {
          "base_uri": "https://localhost:8080/",
          "height": 261
        }
      },
      "execution_count": 5,
      "outputs": [
        {
          "output_type": "error",
          "ename": "FileNotFoundError",
          "evalue": "ignored",
          "traceback": [
            "\u001b[0;31m---------------------------------------------------------------------------\u001b[0m",
            "\u001b[0;31mFileNotFoundError\u001b[0m                         Traceback (most recent call last)",
            "\u001b[0;32m<ipython-input-5-3bff59cfd407>\u001b[0m in \u001b[0;36m<cell line: 8>\u001b[0;34m()\u001b[0m\n\u001b[1;32m      6\u001b[0m \u001b[0;34m\u001b[0m\u001b[0m\n\u001b[1;32m      7\u001b[0m \u001b[0;31m# INSERT YOUR CODE HERE\u001b[0m\u001b[0;34m\u001b[0m\u001b[0;34m\u001b[0m\u001b[0m\n\u001b[0;32m----> 8\u001b[0;31m \u001b[0;32mwith\u001b[0m \u001b[0mopen\u001b[0m\u001b[0;34m(\u001b[0m\u001b[0;34m'your_file.txt'\u001b[0m\u001b[0;34m,\u001b[0m \u001b[0;34m'r'\u001b[0m\u001b[0;34m)\u001b[0m \u001b[0;32mas\u001b[0m \u001b[0mfile\u001b[0m\u001b[0;34m:\u001b[0m\u001b[0;34m\u001b[0m\u001b[0;34m\u001b[0m\u001b[0m\n\u001b[0m\u001b[1;32m      9\u001b[0m     \u001b[0;32mfor\u001b[0m \u001b[0mline\u001b[0m \u001b[0;32min\u001b[0m \u001b[0mfile\u001b[0m\u001b[0;34m:\u001b[0m\u001b[0;34m\u001b[0m\u001b[0;34m\u001b[0m\u001b[0m\n\u001b[1;32m     10\u001b[0m         \u001b[0;32mif\u001b[0m \u001b[0mline\u001b[0m\u001b[0;34m.\u001b[0m\u001b[0mstartswith\u001b[0m\u001b[0;34m(\u001b[0m\u001b[0;34m'#'\u001b[0m\u001b[0;34m)\u001b[0m\u001b[0;34m:\u001b[0m\u001b[0;34m\u001b[0m\u001b[0;34m\u001b[0m\u001b[0m\n",
            "\u001b[0;31mFileNotFoundError\u001b[0m: [Errno 2] No such file or directory: 'your_file.txt'"
          ]
        }
      ]
    }
  ]
}