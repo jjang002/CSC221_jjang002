{
  "nbformat": 4,
  "nbformat_minor": 0,
  "metadata": {
    "colab": {
      "provenance": []
    },
    "kernelspec": {
      "name": "python3",
      "display_name": "Python 3"
    },
    "language_info": {
      "name": "python"
    }
  },
  "cells": [
    {
      "cell_type": "code",
      "execution_count": null,
      "metadata": {
        "id": "SoJ3Pi1fJYLS"
      },
      "outputs": [],
      "source": [
        "#Jaeyoung Jang assignment 14\n",
        "def calculator():\n",
        "    try:\n",
        "        input_str = input(\"Enter a calculation (e.g., '13 / 5 <enter>'): \")\n",
        "        parts = input_str.split()\n",
        "\n",
        "        if len(parts) != 3:\n",
        "            raise ValueError(\"Invalid input format. Use 'number operator number'.\")\n",
        "\n",
        "        num1 = float(parts[0])\n",
        "        operator = parts[1]\n",
        "        num2 = float(parts[2])\n",
        "\n",
        "        try:\n",
        "            if operator == '+':\n",
        "                result = num1 + num2\n",
        "            elif operator == '-':\n",
        "                result = num1 - num2\n",
        "            elif operator == '*':\n",
        "                result = num1 * num2\n",
        "            elif operator == '/':\n",
        "                result = num1 / num2\n",
        "            else:\n",
        "                raise ValueError(\"Invalid operator. Use +, -, *, or /.\")\n",
        "\n",
        "            print(f\"{num1} {operator} {num2} = {result}\")\n",
        "        except ZeroDivisionError:\n",
        "            print(\"Division by zero is not allowed.\")\n",
        "        except Exception as e:\n",
        "            print(f\"An error occurred: {e}\")\n",
        "\n",
        "    except ValueError as ve:\n",
        "        print(f\"Invalid input: {ve}\")\n",
        "    except Exception as e:\n",
        "        print(f\"An error occurred: {e}\")\n",
        "\n",
        "if __name__ == \"__main__\":\n",
        "    calculator()"
      ]
    },
    {
      "cell_type": "code",
      "source": [
        "import os\n",
        "\n",
        "def read_file(filename):\n",
        "    try:\n",
        "        with open(filename, 'r') as file:\n",
        "            content = file.read()\n",
        "            return content\n",
        "    except FileNotFoundError:\n",
        "        print(f\"File not found: {filename}\")\n",
        "        return None\n",
        "    except Exception as e:\n",
        "        print(f\"An error occurred while reading the file: {e}\")\n",
        "        return None\n",
        "\n",
        "def write_file(filename, content):\n",
        "    try:\n",
        "        with open(filename, 'w') as file:\n",
        "            file.write(content)\n",
        "    except Exception as e:\n",
        "        print(f\"An error occurred while writing to the file: {e}\")\n",
        "\n",
        "if __name__ == \"__main\":\n",
        "    content = read_file(\"nonexistent.txt\")\n",
        "\n",
        "    content = read_file(\"corrupt.txt\")\n",
        "\n",
        "    write_file(\"/etc/hosts\", \"Hello, world!\")\n",
        "\n",
        "    write_file(\"invalid.txt\", 42)"
      ],
      "metadata": {
        "id": "naYspZpPJeOQ"
      },
      "execution_count": null,
      "outputs": []
    }
  ]
}