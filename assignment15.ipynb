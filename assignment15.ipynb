{
  "nbformat": 4,
  "nbformat_minor": 0,
  "metadata": {
    "colab": {
      "provenance": []
    },
    "kernelspec": {
      "name": "python3",
      "display_name": "Python 3"
    },
    "language_info": {
      "name": "python"
    }
  },
  "cells": [
    {
      "cell_type": "code",
      "execution_count": null,
      "metadata": {
        "id": "ETX6B83InSbA"
      },
      "outputs": [],
      "source": [
        "#Jaeyoung Jang 11-1 city_functions.py\n",
        "def city_country(city, country):\n",
        "    formatted_string = f\"{city.title()}, {country.title()}\"\n",
        "    return formatted_string"
      ]
    },
    {
      "cell_type": "code",
      "source": [
        "# test_cities.py\n",
        "import pytest\n",
        "from city_functions import city_country\n",
        "\n",
        "def test_city_country():\n",
        "    result = city_country('santiago', 'chile')\n",
        "    assert result == 'Santiago, Chile'"
      ],
      "metadata": {
        "id": "saxoRlA1nwCo"
      },
      "execution_count": null,
      "outputs": []
    },
    {
      "cell_type": "code",
      "source": [
        "#11-2 city_functions.py\n",
        "def city_country(city, country, population=None):\n",
        "    if population is not None:\n",
        "        formatted_string = f\"{city.title()}, {country.title()} – population {population}\"\n",
        "    else:\n",
        "        formatted_string = f\"{city.title()}, {country.title()}\"\n",
        "    return formatted_string"
      ],
      "metadata": {
        "id": "M8DS13VdnypL"
      },
      "execution_count": null,
      "outputs": []
    },
    {
      "cell_type": "code",
      "source": [
        "# test_cities.py\n",
        "import pytest\n",
        "from city_functions import city_country\n",
        "\n",
        "def test_city_country():\n",
        "    result = city_country('santiago', 'chile')\n",
        "    assert result == 'Santiago, Chile'\n",
        "\n",
        "def test_city_country_population():\n",
        "    result = city_country('santiago', 'chile', 5000000)\n",
        "    assert result == 'Santiago, Chile – population 5000000'"
      ],
      "metadata": {
        "id": "PeIFwLmZn79E"
      },
      "execution_count": null,
      "outputs": []
    }
  ]
}