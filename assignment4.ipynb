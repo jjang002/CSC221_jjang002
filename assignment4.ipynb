{
  "nbformat": 4,
  "nbformat_minor": 0,
  "metadata": {
    "colab": {
      "provenance": []
    },
    "kernelspec": {
      "name": "python3",
      "display_name": "Python 3"
    },
    "language_info": {
      "name": "python"
    }
  },
  "cells": [
    {
      "cell_type": "code",
      "execution_count": 1,
      "metadata": {
        "colab": {
          "base_uri": "https://localhost:8080/"
        },
        "id": "4LQ4lMtvJvNh",
        "outputId": "fd5a5a91-d593-481e-f8cd-d240bd317fa9"
      },
      "outputs": [
        {
          "output_type": "stream",
          "name": "stdout",
          "text": [
            "Alice\n",
            "Bob\n",
            "Charlie\n",
            "David\n",
            "Eve\n"
          ]
        }
      ],
      "source": [
        "names = [\"Alice\", \"Bob\", \"Charlie\", \"David\", \"Eve\"]\n",
        "\n",
        "for name in names:\n",
        "    print(name)"
      ]
    },
    {
      "cell_type": "code",
      "source": [
        "names = [\"Alice\", \"Bob\", \"Charlie\", \"David\", \"Eve\"]\n",
        "\n",
        "for name in names:\n",
        "    print(f\"Hello, {name}!\")"
      ],
      "metadata": {
        "colab": {
          "base_uri": "https://localhost:8080/"
        },
        "id": "9DHogDR7KBDZ",
        "outputId": "313230de-9d3e-4b39-8ba7-a3e250081827"
      },
      "execution_count": 2,
      "outputs": [
        {
          "output_type": "stream",
          "name": "stdout",
          "text": [
            "Hello, Alice!\n",
            "Hello, Bob!\n",
            "Hello, Charlie!\n",
            "Hello, David!\n",
            "Hello, Eve!\n"
          ]
        }
      ]
    },
    {
      "cell_type": "code",
      "source": [
        "transportation = [\"motorcycle\", \"car\", \"bicycle\", \"bus\", \"train\"]\n",
        "\n",
        "for item in transportation:\n",
        "    print(f\"I would like to own a {item}.\")"
      ],
      "metadata": {
        "id": "Suqx_mqMKFZk"
      },
      "execution_count": null,
      "outputs": []
    },
    {
      "cell_type": "code",
      "source": [
        "guests = [\"Alice\", \"Bob\", \"Charlie\"]\n",
        "for guest in guests:\n",
        "    print(f\"Dear {guest}, I invite you to my place for dinner\")"
      ],
      "metadata": {
        "colab": {
          "base_uri": "https://localhost:8080/"
        },
        "id": "nJpk9WV1KjCp",
        "outputId": "fcc9f635-0317-420e-94b2-2e5f8cbda714"
      },
      "execution_count": 4,
      "outputs": [
        {
          "output_type": "stream",
          "name": "stdout",
          "text": [
            "Dear Alice, you are cordially invited to dinner at my place!\n",
            "Dear Bob, you are cordially invited to dinner at my place!\n",
            "Dear Charlie, you are cordially invited to dinner at my place!\n"
          ]
        }
      ]
    },
    {
      "cell_type": "code",
      "source": [
        "cubes = [num ** 3 for num in range(60, 86) if num % 7 == 0]\n",
        "\n",
        "# Print the result\n",
        "print(cubes)"
      ],
      "metadata": {
        "colab": {
          "base_uri": "https://localhost:8080/"
        },
        "id": "dGPo16tgLRcv",
        "outputId": "3dd0140b-293d-4900-fa41-8b356e5cf61b"
      },
      "execution_count": 5,
      "outputs": [
        {
          "output_type": "stream",
          "name": "stdout",
          "text": [
            "[250047, 343000, 456533, 592704]\n"
          ]
        }
      ]
    },
    {
      "cell_type": "code",
      "source": [
        "x_values = [40, 50, 120, -8, 6]\n",
        "y_values = [7.4 * x + 51 for x in x_values]\n",
        "\n",
        "for i in range(len(x_values)):\n",
        "    x = x_values[i]\n",
        "    y = y_values[i]\n",
        "    print(f\"For x = {x}, y = {y}\")"
      ],
      "metadata": {
        "colab": {
          "base_uri": "https://localhost:8080/"
        },
        "id": "9WeJkP9fL2RC",
        "outputId": "19cad0de-0e0e-4707-b690-2ab9d333e402"
      },
      "execution_count": 6,
      "outputs": [
        {
          "output_type": "stream",
          "name": "stdout",
          "text": [
            "For x = 40, y = 347.0\n",
            "For x = 50, y = 421.0\n",
            "For x = 120, y = 939.0\n",
            "For x = -8, y = -8.200000000000003\n",
            "For x = 6, y = 95.4\n"
          ]
        }
      ]
    }
  ]
}