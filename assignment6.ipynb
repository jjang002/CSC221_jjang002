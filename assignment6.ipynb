{
  "nbformat": 4,
  "nbformat_minor": 0,
  "metadata": {
    "colab": {
      "provenance": []
    },
    "kernelspec": {
      "name": "python3",
      "display_name": "Python 3"
    },
    "language_info": {
      "name": "python"
    }
  },
  "cells": [
    {
      "cell_type": "code",
      "execution_count": null,
      "metadata": {
        "id": "kTde3lhhHPH1"
      },
      "outputs": [],
      "source": [
        "age = 25\n",
        "print(\"Is age equal to 25? I predict True.\")\n",
        "print(age == 25)\n",
        "\n",
        "name = 'Alice'\n",
        "print(\"\\nIs name equal to 'Alice'? I predict True.\")\n",
        "print(name == 'Alice')\n",
        "\n",
        "temperature = 78\n",
        "print(\"\\nIs temperature greater than or equal to 80? I predict False.\")\n",
        "print(temperature >= 80)\n",
        "\n",
        "day = 'Wednesday'\n",
        "print(\"\\nIs day not equal to 'Monday'? I predict True.\")\n",
        "print(day != 'Monday')\n",
        "\n",
        "is_raining = True\n",
        "print(\"\\nIs it not raining? I predict False.\")\n",
        "print(not is_raining)\n",
        "\n",
        "fruits = ['apple', 'banana', 'cherry']\n",
        "print(\"\\nIs 'kiwi' in the list of fruits? I predict False.\")\n",
        "print('kiwi' in fruits)\n",
        "\n",
        "x = 15\n",
        "y = 30\n",
        "print(\"\\nIs the sum of x and y greater than 40? I predict True.\")\n",
        "print(x + y > 40)\n",
        "\n",
        "is_sunny = False\n",
        "is_warm = True\n",
        "print(\"\\nIs it sunny and warm outside? I predict False.\")\n",
        "print(is_sunny and is_warm)\n",
        "\n",
        "is_weekend = True\n",
        "is_holiday = False\n",
        "print(\"\\nIs it the weekend or a holiday? I predict True.\")\n",
        "print(is_weekend or is_holiday)\n",
        "\n",
        "number = 42\n",
        "print(\"\\nIs number less than or equal to 50 and greater than 30? I predict True.\")\n",
        "print(30 < number <= 50)"
      ]
    },
    {
      "cell_type": "code",
      "source": [
        "city = 'New York'\n",
        "print(\"Is city equal to 'New York'? I predict True.\")\n",
        "print(city == 'New York')\n",
        "\n",
        "country = 'Canada'\n",
        "print(\"\\nIs country not equal to 'USA'? I predict True.\")\n",
        "print(country != 'USA')\n",
        "\n",
        "fruit = 'Apple'\n",
        "print(\"\\nIs fruit equal to 'apple' when case-insensitive? I predict True.\")\n",
        "print(fruit.lower() == 'apple')\n",
        "\n",
        "animal = 'Elephant'\n",
        "print(\"\\nIs animal equal to 'elephant' when case-insensitive? I predict False.\")\n",
        "print(animal.lower() == 'elephant')\n",
        "\n",
        "age = 18\n",
        "print(\"\\nIs age equal to 18? I predict True.\")\n",
        "print(age == 18)\n",
        "\n",
        "temperature = 72\n",
        "print(\"\\nIs temperature greater than 80? I predict False.\")\n",
        "print(temperature > 80)\n",
        "\n",
        "distance = 10\n",
        "print(\"\\nIs distance less than or equal to 5? I predict False.\")\n",
        "print(distance <= 5)\n",
        "\n"
      ],
      "metadata": {
        "id": "f73ESWiiHdtp"
      },
      "execution_count": null,
      "outputs": []
    },
    {
      "cell_type": "code",
      "source": [
        "alien_color = 'green'\n",
        "alien_color = 'red'\n",
        "alien_color = 'yellow'\n",
        "\n",
        "if alien_color == 'green':\n",
        "    print(\"Congratulations. You earned 5 points.\")\n"
      ],
      "metadata": {
        "id": "PXjYtAWeIVrn"
      },
      "execution_count": null,
      "outputs": []
    },
    {
      "cell_type": "code",
      "source": [
        "age = 25\n",
        "\n",
        "if age < 2:\n",
        "    print(\"The person is a baby.\")\n",
        "elif age < 4:\n",
        "    print(\"The person is a toddler.\")\n",
        "elif age < 13:\n",
        "    print(\"The person is a kid.\")\n",
        "elif age < 20:\n",
        "    print(\"The person is a teenager.\")\n",
        "elif age < 65:\n",
        "    print(\"The person is an adult.\")\n",
        "else:\n",
        "    print(\"The person is an elder.\")"
      ],
      "metadata": {
        "id": "5ZOuyLqhI3Gd"
      },
      "execution_count": null,
      "outputs": []
    },
    {
      "cell_type": "code",
      "source": [],
      "metadata": {
        "id": "mk56aZMuI-Xa"
      },
      "execution_count": null,
      "outputs": []
    }
  ]
}