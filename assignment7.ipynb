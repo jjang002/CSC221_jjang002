{
  "nbformat": 4,
  "nbformat_minor": 0,
  "metadata": {
    "colab": {
      "provenance": []
    },
    "kernelspec": {
      "name": "python3",
      "display_name": "Python 3"
    },
    "language_info": {
      "name": "python"
    }
  },
  "cells": [
    {
      "cell_type": "code",
      "execution_count": null,
      "metadata": {
        "id": "bGiDm-M0NN8E"
      },
      "outputs": [],
      "source": [
        "# 6-1\n",
        "person = {\n",
        "    \"first_name\": \"John\",\n",
        "    \"last_name\": \"Doe\",\n",
        "    \"age\": 30,\n",
        "    \"city\": \"New York\"\n",
        "}\n",
        "\n",
        "print(\"First Name:\", person[\"first_name\"])\n",
        "print(\"Last Name:\", person[\"last_name\"])\n",
        "print(\"Age:\", person[\"age\"])\n",
        "print(\"City:\", person[\"city\"])"
      ]
    },
    {
      "cell_type": "code",
      "source": [
        "# 6-2\n",
        "favorite_numbers = {\n",
        "    \"Alice\": 42,\n",
        "    \"Bob\": 7,\n",
        "    \"Charlie\": 23,\n",
        "    \"David\": 13,\n",
        "    \"Eve\": 55\n",
        "}\n",
        "\n",
        "for name, number in favorite_numbers.items():\n",
        "    print(f\"{name}'s favorite number is {number}.\")"
      ],
      "metadata": {
        "id": "bSXcI0FRNRzM"
      },
      "execution_count": null,
      "outputs": []
    },
    {
      "cell_type": "code",
      "source": [
        "# 6-3\n",
        "glossary = {\n",
        "    \"variable\": \"A container that holds data, such as numbers, text, or objects.\",\n",
        "    \"function\": \"A reusable block of code that performs a specific task when called.\",\n",
        "    \"loop\": \"A control structure that allows you to repeat a set of instructions multiple times.\",\n",
        "    \"list\": \"A collection of ordered and changeable elements, often used to store multiple values.\",\n",
        "}\n",
        "\n",
        "\n",
        "for word, meaning in glossary.items():\n",
        "    print(f\"{word}:\\n{meaning}\\n\")"
      ],
      "metadata": {
        "id": "bTs0RfFKNg0g"
      },
      "execution_count": null,
      "outputs": []
    },
    {
      "cell_type": "code",
      "source": [
        "# 6-4\n",
        "glossary = {\n",
        "    \"variable\": \"A container that holds data, such as numbers, text, or objects.\",\n",
        "    \"function\": \"A reusable block of code that performs a specific task when called.\",\n",
        "    \"loop\": \"A control structure that allows you to repeat a set of instructions multiple times.\",\n",
        "    \"list\": \"A collection of ordered and changeable elements, often used to store multiple values.\",\n",
        "    \"conditional statement\": \"A decision-making statement that executes different code blocks depending on a condition.\",\n",
        "    \"dictionary\": \"A data structure that stores key-value pairs, allowing efficient retrieval of values by keys.\",\n",
        "\n",
        "}\n",
        "\n",
        "for word, meaning in glossary.items():\n",
        "    print(f\"{word}:\\n{meaning}\\n\")"
      ],
      "metadata": {
        "id": "ZUHmLccuN4J6"
      },
      "execution_count": null,
      "outputs": []
    },
    {
      "cell_type": "code",
      "source": [
        "# 6-12\n",
        "while True:\n",
        "    name = input(\"Enter a person's name (or 'quit' to exit): \")\n",
        "\n",
        "    if name.lower() == 'quit':\n",
        "        break\n",
        "\n",
        "    try:\n",
        "        number = int(input(f\"Enter {name}'s favorite number: \"))\n",
        "        favorite_numbers[name] = number\n",
        "    except ValueError:\n",
        "        print(\"Invalid input. Please enter a valid number.\")\n",
        "\n",
        "print(\"\\nFavorite Numbers:\")\n",
        "for name, number in favorite_numbers.items():\n",
        "    print(f\"{name}'s favorite number is {number}.\")\n",
        "\n",
        "sorted_numbers = sorted(favorite_numbers.values())\n",
        "print(\"\\nSorted Favorite Numbers:\")\n",
        "for number in sorted_numbers:\n",
        "    print(number)"
      ],
      "metadata": {
        "id": "BJWf21nZOF7z"
      },
      "execution_count": null,
      "outputs": []
    }
  ]
}