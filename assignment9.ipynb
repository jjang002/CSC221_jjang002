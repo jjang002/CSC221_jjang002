{
  "nbformat": 4,
  "nbformat_minor": 0,
  "metadata": {
    "colab": {
      "provenance": []
    },
    "kernelspec": {
      "name": "python3",
      "display_name": "Python 3"
    },
    "language_info": {
      "name": "python"
    }
  },
  "cells": [
    {
      "cell_type": "code",
      "execution_count": null,
      "metadata": {
        "id": "SnWNCQ2BbQGZ"
      },
      "outputs": [],
      "source": [
        "def favorite_book(title):\n",
        "    print(\"One of my favorite books is \" + title)\n",
        "\n",
        "favorite_book(\"Alice in Wonderland\")"
      ]
    },
    {
      "cell_type": "code",
      "source": [
        "def make_shirt(size, message):\n",
        "    print(f\"Shirt size: {size}, Message: {message}\")\n",
        "\n",
        "make_shirt(\"Medium\", \"Hello, World!\")\n",
        "\n",
        "def make_shirt(size=\"Large\", message=\"I love Python\"):\n",
        "    print(f\"Shirt size: {size}, Message: {message}\")\n",
        "\n",
        "make_shirt(size=\"Small\", message=\"Python is fun!\")"
      ],
      "metadata": {
        "id": "TQJrTXsSbVEi"
      },
      "execution_count": null,
      "outputs": []
    },
    {
      "cell_type": "code",
      "source": [
        "def make_shirt(size=\"Large\", message=\"I love Python\"):\n",
        "    print(f\"Shirt size: {size}, Message: {message}\")\n",
        "\n",
        "make_shirt()\n",
        "make_shirt(size=\"Medium\")\n",
        "make_shirt(size=\"Small\", message=\"Python is fun!\")"
      ],
      "metadata": {
        "id": "9hJDr2wpbd2x"
      },
      "execution_count": null,
      "outputs": []
    },
    {
      "cell_type": "code",
      "source": [
        "def make_car(manufacturer, model, **kwargs):\n",
        "    car_info = {\n",
        "        'manufacturer': manufacturer,\n",
        "        'model': model,\n",
        "    }\n",
        "    car_info.update(kwargs)\n",
        "    return car_info\n",
        "\n",
        "car = make_car('subaru', 'outback', color='blue', tow_package=True)\n",
        "\n",
        "print(car)"
      ],
      "metadata": {
        "id": "NkoQxATabn8s"
      },
      "execution_count": null,
      "outputs": []
    },
    {
      "cell_type": "code",
      "source": [
        "import math\n",
        "\n",
        "def sum_and_sorted_numbers(num1, num2=math.pi):\n",
        "\n",
        "    total = num1 + num2\n",
        "\n",
        "    sorted_numbers = sorted([num1, num2])\n",
        "\n",
        "    return total, sorted_numbers\n",
        "\n",
        "result1 = sum_and_sorted_numbers(3, 1)\n",
        "result2 = sum_and_sorted_numbers(5)\n",
        "\n",
        "print(\"Result 1: Sum =\", result1[0], \", Sorted Numbers =\", result1[1])\n",
        "print(\"Result 2: Sum =\", result2[0], \", Sorted Numbers =\", result2[1])"
      ],
      "metadata": {
        "colab": {
          "base_uri": "https://localhost:8080/"
        },
        "id": "FASR4EGpb0Ar",
        "outputId": "0ed49b18-d5d7-424b-e118-b6fe904587bf"
      },
      "execution_count": 2,
      "outputs": [
        {
          "output_type": "stream",
          "name": "stdout",
          "text": [
            "Result 1: Sum = 4 , Sorted Numbers = [1, 3]\n",
            "Result 2: Sum = 8.141592653589793 , Sorted Numbers = [3.141592653589793, 5]\n"
          ]
        }
      ]
    },
    {
      "cell_type": "code",
      "source": [
        "# Test Cases\n",
        "result1 = sum_and_sorted_numbers(3, 1, verbose=True)\n",
        "result2 = sum_and_sorted_numbers(5, verbose=True)\n",
        "result3 = sum_and_sorted_numbers(2.5, verbose=True)\n",
        "result4 = sum_and_sorted_numbers(7, math.e, verbose=True)\n",
        "result5 = sum_and_sorted_numbers(4)\n",
        "result6 = sum_and_sorted_numbers(6)\n",
        "\n",
        "print(\"\\nTest Results:\")\n",
        "print(\"Result 1:\", result1)\n",
        "print(\"Result 2:\", result2)\n",
        "print(\"Result 3:\", result3)\n",
        "print(\"Result 4:\", result4)\n",
        "print(\"Result 5:\", result5)\n",
        "print(\"Result 6:\", result6)"
      ],
      "metadata": {
        "id": "8mG2NTg7cKQz"
      },
      "execution_count": null,
      "outputs": []
    },
    {
      "cell_type": "code",
      "source": [],
      "metadata": {
        "id": "4nqYJk90cVts"
      },
      "execution_count": null,
      "outputs": []
    }
  ]
}