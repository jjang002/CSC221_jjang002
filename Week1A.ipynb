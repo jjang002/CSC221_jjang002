{
  "nbformat": 4,
  "nbformat_minor": 0,
  "metadata": {
    "colab": {
      "provenance": []
    },
    "kernelspec": {
      "name": "python3",
      "display_name": "Python 3"
    },
    "language_info": {
      "name": "python"
    }
  },
  "cells": [
    {
      "cell_type": "code",
      "execution_count": null,
      "metadata": {
        "id": "U86bOo_-28Bn"
      },
      "outputs": [],
      "source": [
        "num1 = float(input(\"First num: \"))\n",
        "num2 = float(input(\"Second num: \"))\n",
        "\n",
        "result = num1 + num2\n",
        "\n",
        "print(\"Result:\", result)"
      ]
    }
  ]
}