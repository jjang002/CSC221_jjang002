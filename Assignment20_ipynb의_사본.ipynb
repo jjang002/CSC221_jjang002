{
  "nbformat": 4,
  "nbformat_minor": 0,
  "metadata": {
    "colab": {
      "provenance": []
    },
    "kernelspec": {
      "name": "python3",
      "display_name": "Python 3"
    },
    "language_info": {
      "name": "python"
    }
  },
  "cells": [
    {
      "cell_type": "markdown",
      "source": [
        "# Assignment 20\n",
        "## CSC 221\n",
        "- Jaeyoung Jang\n",
        "\n",
        "### Instructions:\n",
        "Fill in each code cell below the question. We are following along in Chapter 4 of Python Distilled."
      ],
      "metadata": {
        "id": "IAOUzGWE1eDx"
      }
    },
    {
      "cell_type": "code",
      "execution_count": null,
      "metadata": {
        "id": "Gnj3su7i5-lx",
        "colab": {
          "base_uri": "https://localhost:8080/"
        },
        "outputId": "40bf34bf-2970-4d26-f986-6806fd060e17"
      },
      "outputs": [
        {
          "output_type": "stream",
          "name": "stdout",
          "text": [
            "19\n",
            "44.5\n",
            "asdfg13\n"
          ]
        }
      ],
      "source": [
        "# 4.1 Essential Concepts\n",
        "\n",
        "# When we write \"a + b\" in Python, the interpreter tries to execute a.__add__(b)\n",
        "\n",
        "# Show that this is true by trying the following:\n",
        "a = 6\n",
        "b = 31.5\n",
        "c = 'asdfg'\n",
        "a1 = a.__add__(13)\n",
        "b1 = b.__add__(13)\n",
        "c1 = c.__add__('13')\n",
        "print(a1)\n",
        "print(b1)\n",
        "print(c1)\n",
        "\n",
        "# What are the types of a, b, and c?\n",
        "# a: int, b: float, c: str\n",
        "\n",
        "# Explain the results\n",
        "#a1: a + 13, where a is an integer. The result is 6 + 13, which is 19. So, a1 is 19.\n",
        "#b1: b + 13, where b is a float. The result is 31.5 + 13, which is 44.5. So, b1 is 44.5.\n",
        "#c1: c + '13', where c is a string. The result is string concatenation, which joins the string 'asdfg' with the string '13'. So, c1 is 'asdfg13'."
      ]
    },
    {
      "cell_type": "code",
      "source": [
        "# 4.2 through 4.4 will be covered in the next assignment\n"
      ],
      "metadata": {
        "id": "w2uYd3DO2do6"
      },
      "execution_count": null,
      "outputs": []
    },
    {
      "cell_type": "code",
      "source": [
        "# 4.5 str and repr\n",
        "# How many categpries of printing are shown below for a datetime object?\n",
        "# What in the Pythion code makes each one get callled?\n",
        "\n",
        "from datetime import date\n",
        "d = date(2023, 11, 7)\n",
        "\n",
        "# 1. Calls __str__ method implicitly\n",
        "print(d)\n",
        "# 2. Calls __str__ method implicitly using f-string\n",
        "print(f'{d}')\n",
        "# 3. Calls __str__ method explicitly using f-string with !s conversion\n",
        "print(f'{d!s}')\n",
        "# 4. Calls __repr__ method explicitly using f-string with !r conversion\n",
        "print(f'{d!r}')\n",
        "# 5. Calls __str__ method explicitly\n",
        "print(str(d))\n",
        "# 6. Calls __repr__ method explicitly\n",
        "print(repr(d))\n",
        "# 7. Calls __str__ method explicitly\n",
        "print(d.__str__())\n",
        "# 8. Calls __repr__ method explicitly\n",
        "print(d.__repr__())\n"
      ],
      "metadata": {
        "id": "Aa3ylzmV2wNF"
      },
      "execution_count": null,
      "outputs": []
    },
    {
      "cell_type": "code",
      "source": [
        "# 4.6 First-Class Objects\n",
        "# What is the significance of all objects being \"first-class\" in Python?\n",
        "#Everything in the language is treated as an object with equal status.\n",
        "\n",
        "# Explain by typing in the code to create and use the 'items' dictionary shown in section 4.6.\n",
        "# Explain each of the lines starting with '>>>' in the section.\n",
        "\n",
        "# Create a dictionary named 'items'\n",
        "#  Creates a dictionary named 'items' with keys ('apple', 'orange', 'banana') and corresponding values.\n",
        ">>> items = {'apple': 2, 'orange': 5, 'banana': 1}\n",
        "\n",
        "# Define a function that takes a key and returns the corresponding value from 'items'\n",
        "# Defines a function named 'get_quantity' that takes a key as an argument.\n",
        ">>> def get_quantity(item):\n",
        "...     return items[item]\n",
        "\n",
        "# Use the function as a first-class object, passing it as an argument to the 'map' function\n",
        ">>> list(map(get_quantity, ['apple', 'orange', 'banana']))\n",
        "[2, 5, 1]\n",
        "\n",
        "# Create a lambda function that multiplies a given quantity by 2\n",
        ">>> multiply_by_two = lambda x: x * 2\n",
        "\n",
        "# Use the lambda function in the 'map' function to apply it to each value in 'items'\n",
        ">>> list(map(multiply_by_two, items.values()))\n",
        "[4, 10, 2]"
      ],
      "metadata": {
        "id": "9LRpP06Vsw6n"
      },
      "execution_count": null,
      "outputs": []
    },
    {
      "cell_type": "code",
      "source": [
        "# 4.7 Using None\n",
        "# Write a function that takes two parameters and returns their sum if they are\n",
        "#  integers or returns None if either one is not.\n",
        "\n",
        "# Put in some test code to show that your function works\n",
        "\n",
        "# INSERT YOUR CODE HERE\n",
        "def add_integers(a, b):\n",
        "    if isinstance(a, int) and isinstance(b, int):\n",
        "        return a + b\n",
        "    else:\n",
        "        return None\n",
        "\n",
        "# Test cases\n",
        "result1 = add_integers(3, 5)\n",
        "result2 = add_integers(7, 'hello')\n",
        "result3 = add_integers('world', 4)\n",
        "\n",
        "# Display results\n",
        "print(result1)\n",
        "print(result2)\n",
        "print(result3)"
      ],
      "metadata": {
        "id": "dUhRWGnCtewU"
      },
      "execution_count": null,
      "outputs": []
    },
    {
      "cell_type": "code",
      "source": [
        "# 4.9 Object Protocol\n",
        "# Create a simple object that has methods for:\n",
        "#  __new__\n",
        "#  __init__\n",
        "#  __del__\n",
        "#  __repr__\n",
        "#  __str__\n",
        "\n",
        "# Put in some test code to show how and when each of these 'magic' functions gets called.\n",
        "\n",
        "# INSERT YOUR CODE HERE\n",
        "class SimpleObject:\n",
        "    def __new__(cls, *args, **kwargs):\n",
        "        instance = super().__new__(cls)\n",
        "        print(f'__new__ called: Creating a new instance ({instance})')\n",
        "        return instance\n",
        "\n",
        "    def __init__(self, name):\n",
        "        self.name = name\n",
        "        print(f'__init__ called: Initializing instance {self}')\n",
        "\n",
        "    def __del__(self):\n",
        "        print(f'__del__ called: Deleting instance {self}')\n",
        "\n",
        "    def __repr__(self):\n",
        "        return f\"SimpleObject(name='{self.name}')\"\n",
        "\n",
        "    def __str__(self):\n",
        "        return f\"SimpleObject instance: {self.name}\"\n",
        "\n",
        "# Test code\n",
        "obj1 = SimpleObject('Object1')\n",
        "\n",
        "print('\\nCalling repr and str:')\n",
        "print(repr(obj1))\n",
        "print(str(obj1))\n",
        "\n",
        "print('\\nDeleting the object:')\n",
        "del obj1"
      ],
      "metadata": {
        "id": "4M-CQevEt2xQ"
      },
      "execution_count": null,
      "outputs": []
    }
  ]
}