{
  "nbformat": 4,
  "nbformat_minor": 0,
  "metadata": {
    "colab": {
      "provenance": []
    },
    "kernelspec": {
      "name": "python3",
      "display_name": "Python 3"
    },
    "language_info": {
      "name": "python"
    }
  },
  "cells": [
    {
      "cell_type": "code",
      "execution_count": 1,
      "metadata": {
        "colab": {
          "base_uri": "https://localhost:8080/"
        },
        "id": "wdGrb-oYpnXb",
        "outputId": "a07db218-780d-4b8d-e420-c9203d6c0e13"
      },
      "outputs": [
        {
          "output_type": "stream",
          "name": "stdout",
          "text": [
            "Hello, World!\n"
          ]
        }
      ],
      "source": [
        "#2-1\n",
        "message = \"Hello, World!\"\n",
        "\n",
        "print(message)"
      ]
    },
    {
      "cell_type": "code",
      "source": [
        "#2-2\n",
        "message = \"Hello, World!\"\n",
        "\n",
        "print(message)\n",
        "\n",
        "message = \"This is a new message.\"\n",
        "\n",
        "print(message)"
      ],
      "metadata": {
        "colab": {
          "base_uri": "https://localhost:8080/"
        },
        "id": "I38vrCVrqlOJ",
        "outputId": "79c35813-360c-4a18-87ea-6e6c43426c8b"
      },
      "execution_count": 2,
      "outputs": [
        {
          "output_type": "stream",
          "name": "stdout",
          "text": [
            "Hello, World!\n",
            "This is a new message.\n"
          ]
        }
      ]
    },
    {
      "cell_type": "code",
      "source": [
        "#2-3\n",
        "person_name = \"Eric\"\n",
        "\n",
        "print(f\"Hello {person_name}, would you like to learn some Python today?\")"
      ],
      "metadata": {
        "colab": {
          "base_uri": "https://localhost:8080/"
        },
        "id": "rrycnsoIqzZx",
        "outputId": "d2c11811-9317-4b3a-f373-57cb94f83d9a"
      },
      "execution_count": 6,
      "outputs": [
        {
          "output_type": "stream",
          "name": "stdout",
          "text": [
            "Hello Eric, would you like to learn some Python today?\n"
          ]
        }
      ]
    },
    {
      "cell_type": "code",
      "source": [
        "#2-4\n",
        "person_name = \"john doe\"\n",
        "\n",
        "print(person_name.lower())\n",
        "\n",
        "print(person_name.upper())\n",
        "\n",
        "print(person_name.title())"
      ],
      "metadata": {
        "colab": {
          "base_uri": "https://localhost:8080/"
        },
        "id": "sshV18v0rvBA",
        "outputId": "900480cf-1e47-4eb4-99b8-012498375b82"
      },
      "execution_count": 7,
      "outputs": [
        {
          "output_type": "stream",
          "name": "stdout",
          "text": [
            "john doe\n",
            "JOHN DOE\n",
            "John Doe\n"
          ]
        }
      ]
    },
    {
      "cell_type": "code",
      "source": [
        "#2-5\n",
        "quote = \"A person who never made a mistake never tried anything new.\"\n",
        "author = \"Albert Einstein\"\n",
        "\n",
        "print(f'{author} once said, \"{quote}\"')"
      ],
      "metadata": {
        "colab": {
          "base_uri": "https://localhost:8080/"
        },
        "id": "dNE6MwUPr1fx",
        "outputId": "d4f7499a-e4a1-4ce7-fa7f-9a675ef5b6b8"
      },
      "execution_count": 8,
      "outputs": [
        {
          "output_type": "stream",
          "name": "stdout",
          "text": [
            "Albert Einstein once said, \"A person who never made a mistake never tried anything new.\"\n"
          ]
        }
      ]
    },
    {
      "cell_type": "code",
      "source": [
        "#2-6\n",
        "famous_person = \"Albert Einstein\"\n",
        "\n",
        "quote = \"A person who never made a mistake never tried anything new.\"\n",
        "\n",
        "message = f'{famous_person} once said, \"{quote}\"'\n",
        "\n",
        "print(message)"
      ],
      "metadata": {
        "colab": {
          "base_uri": "https://localhost:8080/"
        },
        "id": "sk4VHLa1sNqx",
        "outputId": "bb8a0fad-e9ea-4cc7-b912-28cf6052e8c4"
      },
      "execution_count": 9,
      "outputs": [
        {
          "output_type": "stream",
          "name": "stdout",
          "text": [
            "Albert Einstein once said, \"A person who never made a mistake never tried anything new.\"\n"
          ]
        }
      ]
    },
    {
      "cell_type": "code",
      "source": [
        "#2-7\n",
        "\n",
        "person_name = \"\\t\\n   John Doe   \\t\\n\"\n",
        "\n",
        "print(person_name)\n",
        "print(person_name.lstrip())\n",
        "print(person_name.rstrip())\n",
        "print(person_name.strip())"
      ],
      "metadata": {
        "colab": {
          "base_uri": "https://localhost:8080/"
        },
        "id": "m-84HsZIsSio",
        "outputId": "4a74a9fb-3363-48f3-de0b-59afbff0e2cc"
      },
      "execution_count": 10,
      "outputs": [
        {
          "output_type": "stream",
          "name": "stdout",
          "text": [
            "\t\n",
            "   John Doe   \t\n",
            "\n",
            "John Doe   \t\n",
            "\n",
            "\t\n",
            "   John Doe\n",
            "John Doe\n"
          ]
        }
      ]
    },
    {
      "cell_type": "code",
      "source": [
        "#2-8\n",
        "filename = 'python_notes.txt'\n",
        "\n",
        "filename_without_extension = filename.removesuffix('.txt')\n",
        "print(filename_without_extension)"
      ],
      "metadata": {
        "colab": {
          "base_uri": "https://localhost:8080/"
        },
        "id": "K_ftEsq3slxj",
        "outputId": "12c03ec5-bb66-4099-db98-a68d3a0dddf1"
      },
      "execution_count": 11,
      "outputs": [
        {
          "output_type": "stream",
          "name": "stdout",
          "text": [
            "python_notes\n"
          ]
        }
      ]
    },
    {
      "cell_type": "code",
      "source": [
        "#2-9\n",
        "print(4 + 4)\n",
        "print(12 - 4)\n",
        "print(2 * 4)\n",
        "print(16 / 2)"
      ],
      "metadata": {
        "colab": {
          "base_uri": "https://localhost:8080/"
        },
        "id": "TJHYGASwsvQT",
        "outputId": "93803915-c823-4c1e-8f62-6c4fb3b0f8ab"
      },
      "execution_count": 12,
      "outputs": [
        {
          "output_type": "stream",
          "name": "stdout",
          "text": [
            "8\n",
            "8\n",
            "8\n",
            "8.0\n"
          ]
        }
      ]
    },
    {
      "cell_type": "code",
      "source": [
        "#2-10\n",
        "favorite_number = 7\n",
        "\n",
        "message = f\"My favorite number is {favorite_number}!\"\n",
        "\n",
        "print(message)"
      ],
      "metadata": {
        "colab": {
          "base_uri": "https://localhost:8080/"
        },
        "id": "JZGdmDqatAtI",
        "outputId": "3714df58-611e-45b0-aadb-22732c9f8df6"
      },
      "execution_count": 14,
      "outputs": [
        {
          "output_type": "stream",
          "name": "stdout",
          "text": [
            "My favorite number is 7!\n"
          ]
        }
      ]
    }
  ]
}