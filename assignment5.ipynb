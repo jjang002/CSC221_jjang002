{
  "nbformat": 4,
  "nbformat_minor": 0,
  "metadata": {
    "colab": {
      "provenance": []
    },
    "kernelspec": {
      "name": "python3",
      "display_name": "Python 3"
    },
    "language_info": {
      "name": "python"
    }
  },
  "cells": [
    {
      "cell_type": "code",
      "execution_count": null,
      "metadata": {
        "id": "8NbrFzn55ssk"
      },
      "outputs": [],
      "source": [
        "favorite_pizzas = [\"Pepperoni\", \"Margherita\", \"Hawaiian\"]\n",
        "\n",
        "print(\"My favorite pizzas:\")\n",
        "for pizza in favorite_pizzas:\n",
        "    print(pizza)\n",
        "\n",
        "print(\"\\nMy statements about pizza:\")\n",
        "for pizza in favorite_pizzas:\n",
        "    print(\"I like \" + pizza + \" pizza.\")\n",
        "\n",
        "print(\"\\nI really love pizza!\")"
      ]
    },
    {
      "cell_type": "code",
      "source": [
        "common_animals = [\"Dog\", \"Cat\", \"Rabbit\"]\n",
        "\n",
        "print(\"\\nCommon animals:\")\n",
        "for animal in common_animals:\n",
        "    print(animal)\n",
        "\n",
        "print(\"\\nStatements about animals:\")\n",
        "for animal in common_animals:\n",
        "    print(\"A \" + animal.lower() + \" would make a great pet.\")\n",
        "\n",
        "print(\"\\nAny of these animals would make a great pet!\")"
      ],
      "metadata": {
        "id": "6hwOFkym52gT"
      },
      "execution_count": null,
      "outputs": []
    },
    {
      "cell_type": "code",
      "source": [
        "for number in range(1, 21):\n",
        "    print(number)"
      ],
      "metadata": {
        "id": "J_F4PkMU6IFW"
      },
      "execution_count": null,
      "outputs": []
    },
    {
      "cell_type": "code",
      "source": [
        "numbers = list(range(1, 1000001))\n",
        "for number in numbers:\n",
        "    print(number)"
      ],
      "metadata": {
        "id": "5hO5FEyX6IyA"
      },
      "execution_count": null,
      "outputs": []
    },
    {
      "cell_type": "code",
      "source": [
        "numbers = list(range(1, 1000001))\n",
        "print(\"Minimum:\", min(numbers))\n",
        "print(\"Maximum:\", max(numbers))\n",
        "print(\"Sum:\", sum(numbers))"
      ],
      "metadata": {
        "id": "im80OCM26KS1"
      },
      "execution_count": null,
      "outputs": []
    },
    {
      "cell_type": "code",
      "source": [
        "odd_numbers = list(range(1, 21, 2))\n",
        "for number in odd_numbers:\n",
        "    print(number)"
      ],
      "metadata": {
        "id": "L-VdQWaq6O5V"
      },
      "execution_count": null,
      "outputs": []
    },
    {
      "cell_type": "code",
      "source": [
        "multiples_of_three = list(range(3, 31, 3))\n",
        "for number in multiples_of_three:\n",
        "    print(number)"
      ],
      "metadata": {
        "id": "VqX0U_Jw6Qao"
      },
      "execution_count": null,
      "outputs": []
    },
    {
      "cell_type": "code",
      "source": [
        "cubes = []\n",
        "for number in range(1, 11):\n",
        "    cube = number ** 3\n",
        "    cubes.append(cube)\n",
        "    print(cube)"
      ],
      "metadata": {
        "id": "6d1F3oke6SZK"
      },
      "execution_count": null,
      "outputs": []
    },
    {
      "cell_type": "code",
      "source": [
        "cubes = [number ** 3 for number in range(1, 11)]\n",
        "print(cubes)"
      ],
      "metadata": {
        "id": "KYRGVwuP6UZu"
      },
      "execution_count": null,
      "outputs": []
    },
    {
      "cell_type": "code",
      "source": [
        "print(\"The first three items in the list are:\")\n",
        "print(favorite_pizzas[:3])\n",
        "\n",
        "middle_start = len(favorite_pizzas) // 2 - 1\n",
        "middle_end = middle_start + 3\n",
        "print(\"Three items from the middle of the list are:\")\n",
        "print(favorite_pizzas[middle_start:middle_end])\n",
        "\n",
        "print(\"The last three items in the list are:\")\n",
        "print(favorite_pizzas[-3:])"
      ],
      "metadata": {
        "id": "9Na_tHKO6imc"
      },
      "execution_count": null,
      "outputs": []
    },
    {
      "cell_type": "code",
      "source": [
        "my_favorite_pizzas = [\"Pepperoni\", \"Margherita\", \"Hawaiian\"]\n",
        "\n",
        "friend_favorite_pizzas = my_favorite_pizzas[:]\n",
        "\n",
        "my_favorite_pizzas.append(\"BBQ Chicken\")\n",
        "\n",
        "friend_favorite_pizzas.append(\"Vegetarian\")\n",
        "\n",
        "print(\"My favorite pizzas are:\")\n",
        "for pizza in my_favorite_pizzas:\n",
        "    print(pizza)\n",
        "\n",
        "print(\"\\nMy friend's favorite pizzas are:\")\n",
        "for pizza in friend_favorite_pizzas:\n",
        "    print(pizza)"
      ],
      "metadata": {
        "id": "ge6QFuvE6laD"
      },
      "execution_count": null,
      "outputs": []
    },
    {
      "cell_type": "code",
      "source": [
        "buffet_foods = (\"Pizza\", \"Burger\", \"Salad\", \"Sushi\", \"Pasta\")\n",
        "\n",
        "print(\"Foods offered in the buffet:\")\n",
        "for food in buffet_foods:\n",
        "    print(food)\n",
        "\n",
        "buffet_foods = (\"Chicken\", \"Rice\", \"Salad\", \"Sushi\", \"Ice Cream\")\n",
        "\n",
        "print(\"\\nRevised buffet menu:\")\n",
        "for food in buffet_foods:\n",
        "    print(food)"
      ],
      "metadata": {
        "id": "q2wncK5y6zIo"
      },
      "execution_count": null,
      "outputs": []
    },
    {
      "cell_type": "code",
      "source": [
        "def factorial(n):\n",
        "    numbers = [x for x in range(1, n + 1)]\n",
        "    product = 1\n",
        "\n",
        "    for x in numbers:\n",
        "        product *= x\n",
        "\n",
        "    return product\n",
        "\n",
        "n = 5\n",
        "result = factorial(n)\n",
        "print(f\"The factorial of {n} is {result}\")"
      ],
      "metadata": {
        "colab": {
          "base_uri": "https://localhost:8080/"
        },
        "id": "WfJDO1Zj7HFL",
        "outputId": "6516600a-671a-4133-f7a8-63115c52a0d7"
      },
      "execution_count": 1,
      "outputs": [
        {
          "output_type": "stream",
          "name": "stdout",
          "text": [
            "The factorial of 5 is 120\n"
          ]
        }
      ]
    }
  ]
}