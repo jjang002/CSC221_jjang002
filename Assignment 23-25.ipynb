{
  "nbformat": 4,
  "nbformat_minor": 0,
  "metadata": {
    "colab": {
      "provenance": []
    },
    "kernelspec": {
      "name": "python3",
      "display_name": "Python 3"
    },
    "language_info": {
      "name": "python"
    }
  },
  "cells": [
    {
      "cell_type": "code",
      "execution_count": null,
      "metadata": {
        "id": "TrOVtLk37A_k"
      },
      "outputs": [],
      "source": [
        "#Write and test a function that has only positional arguments: def func(a, b)\n",
        "def func(a, b):\n",
        "    result = a + b\n",
        "    return result\n",
        "\n",
        "# Testing\n",
        "arg1 = 3\n",
        "arg2 = 5\n",
        "result = func(arg1, arg2)\n",
        "\n",
        "print(f\"The result of {arg1} + {arg2} is: {result}\")"
      ]
    },
    {
      "cell_type": "code",
      "source": [
        "#Write and test a function that has variadic arguments: def func(*s)\n",
        "def func(*args):\n",
        "    result = sum(args)\n",
        "    return result\n",
        "\n",
        "# Testing\n",
        "result1 = func(1, 2, 3)\n",
        "result2 = func(4, 5, 6, 7)\n",
        "\n",
        "print(f\"The sum of numbers 1, 2, and 3 is: {result1}\")\n",
        "print(f\"The sum of numbers 4, 5, 6, and 7 is: {result2}\")"
      ],
      "metadata": {
        "id": "7XwWw4Ts7P6X"
      },
      "execution_count": null,
      "outputs": []
    },
    {
      "cell_type": "code",
      "source": [
        "#Write and test a function that uses only keyword arguments: def func(**kwargs)\n",
        "def func(**kwargs):\n",
        "    for key, value in kwargs.items():\n",
        "        print(f\"{key}: {value}\")\n",
        "\n",
        "# Testing\n",
        "func(name=\"John\", age=25, city=\"New York\")\n",
        "func(language=\"Python\", framework=\"Django\", version=\"3.0\")"
      ],
      "metadata": {
        "id": "KlBryy-u7YE7"
      },
      "execution_count": null,
      "outputs": []
    },
    {
      "cell_type": "code",
      "source": [
        "#Write and test a function that accepts any inputs: def func(*args, **kwargs).\n",
        "#The function should add or subtract all the *args based on a keyword operator='+' or operator='-'\n",
        "def func(operator='+', *args, **kwargs):\n",
        "    result = 0\n",
        "\n",
        "    if operator == '+':\n",
        "        result = sum(args)\n",
        "    elif operator == '-':\n",
        "        result = args[0] - sum(args[1:])\n",
        "    for key, value in kwargs.items():\n",
        "        print(f\"{key}: {value}\")\n",
        "\n",
        "    return result\n",
        "\n",
        "# Testing\n",
        "addition_result = func('+', 1, 2, 3, 4)\n",
        "subtraction_result = func('-', 10, 2, 3)\n",
        "\n",
        "print(f\"Addition result: {addition_result}\")\n",
        "print(f\"Subtraction result: {subtraction_result}\")"
      ],
      "metadata": {
        "id": "CdoWevS27iew"
      },
      "execution_count": null,
      "outputs": []
    },
    {
      "cell_type": "code",
      "source": [
        "#Create a global variable and then create a function that uses and changes its value.\n",
        "global_variable = 10\n",
        "\n",
        "def modify_global_variable():\n",
        "    global global_variable  # This line is necessary to indicate that we are modifying the global variable\n",
        "    print(\"Original global_variable value:\", global_variable)\n",
        "\n",
        "    global_variable += 5\n",
        "\n",
        "    print(\"Modified global_variable value:\", global_variable)\n",
        "\n",
        "print(\"Before calling the function, global_variable value:\", global_variable)\n",
        "\n",
        "modify_global_variable()\n",
        "\n",
        "print(\"After calling the function, global_variable value:\", global_variable)"
      ],
      "metadata": {
        "id": "70wNgWCT7tl2"
      },
      "execution_count": null,
      "outputs": []
    },
    {
      "cell_type": "code",
      "source": [
        "#Create a lambda function that allows the use of sorted(...) such that words are sorted by the number of vowels they contain.\n",
        "words = [\"apple\", \"banana\", \"grape\", \"kiwi\", \"orange\"]\n",
        "\n",
        "sorted_words = sorted(words, key=lambda word: sum(1 for char in word if char.lower() in 'aeiou'))\n",
        "\n",
        "print(sorted_words)"
      ],
      "metadata": {
        "id": "NYd5_fPr7-0U"
      },
      "execution_count": null,
      "outputs": []
    },
    {
      "cell_type": "code",
      "source": [
        "#7\n",
        "def logger(func):\n",
        "    def wrapper(*args, **kwargs):\n",
        "        func_name = func.__name__\n",
        "\n",
        "        args_str = ', '.join(map(repr, args))\n",
        "        kwargs_str = ', '.join(f\"{key}={repr(value)}\" for key, value in kwargs.items())\n",
        "\n",
        "        func_info = f\"Function: {func_name}\\nArguments: {args_str}, {kwargs_str}\\n\"\n",
        "\n",
        "        result = func(*args, **kwargs)\n",
        "\n",
        "        func_info += f\"Return Value: {repr(result)}\\n\\n\"\n",
        "\n",
        "        with open('log.txt', 'a') as log_file:\n",
        "            log_file.write(func_info)\n",
        "\n",
        "        return result\n",
        "\n",
        "    return wrapper\n",
        "\n",
        "@logger\n",
        "def func_add(a, b):\n",
        "    return a + b\n",
        "\n",
        "@logger\n",
        "def func_subtract(a, b):\n",
        "    return a - b\n",
        "\n",
        "result_add = func_add(3, 5)\n",
        "result_subtract = func_subtract(10, 3)"
      ],
      "metadata": {
        "id": "mO13Fzym8OLB"
      },
      "execution_count": null,
      "outputs": []
    },
    {
      "cell_type": "code",
      "source": [
        "#Show an example of how Python can be used to perform map, filter, and reduce operations.\n",
        "#Map\n",
        "numbers = [1, 2, 3, 4, 5]\n",
        "squared_numbers = list(map(lambda x: x**2, numbers))\n",
        "print(\"Map Result:\", squared_numbers)"
      ],
      "metadata": {
        "id": "VNB5JOSN8ZFa"
      },
      "execution_count": null,
      "outputs": []
    },
    {
      "cell_type": "code",
      "source": [
        "#Filter\n",
        "numbers = [1, 2, 3, 4, 5, 6, 7, 8, 9, 10]\n",
        "even_numbers = list(filter(lambda x: x % 2 == 0, numbers))\n",
        "print(\"Filter Result:\", even_numbers)"
      ],
      "metadata": {
        "id": "ZmbTY8bj8q-s"
      },
      "execution_count": null,
      "outputs": []
    },
    {
      "cell_type": "code",
      "source": [
        "#Reduce\n",
        "from functools import reduce\n",
        "\n",
        "numbers = [1, 2, 3, 4, 5]\n",
        "product = reduce(lambda x, y: x * y, numbers)\n",
        "print(\"Reduce Result:\", product)"
      ],
      "metadata": {
        "id": "HaHLTd348vG7"
      },
      "execution_count": null,
      "outputs": []
    },
    {
      "cell_type": "code",
      "source": [
        "#9\n",
        "while True:\n",
        "    expression = input(\"Enter a Python expression (or 'exit' to quit): \")\n",
        "\n",
        "    if expression.lower() == 'exit':\n",
        "        break\n",
        "\n",
        "    try:\n",
        "        result = eval(expression)\n",
        "        print(\"Result:\", result)\n",
        "\n",
        "    except Exception as e:\n",
        "        print(\"Error:\", e)"
      ],
      "metadata": {
        "colab": {
          "base_uri": "https://localhost:8080/",
          "height": 415
        },
        "id": "cJgM-HCL86A3",
        "outputId": "8ec57550-ceef-41e3-c269-819cc68be20a"
      },
      "execution_count": 1,
      "outputs": [
        {
          "output_type": "error",
          "ename": "KeyboardInterrupt",
          "evalue": "ignored",
          "traceback": [
            "\u001b[0;31m---------------------------------------------------------------------------\u001b[0m",
            "\u001b[0;31mKeyboardInterrupt\u001b[0m                         Traceback (most recent call last)",
            "\u001b[0;32m<ipython-input-1-63d602099e6b>\u001b[0m in \u001b[0;36m<cell line: 1>\u001b[0;34m()\u001b[0m\n\u001b[1;32m      1\u001b[0m \u001b[0;32mwhile\u001b[0m \u001b[0;32mTrue\u001b[0m\u001b[0;34m:\u001b[0m\u001b[0;34m\u001b[0m\u001b[0;34m\u001b[0m\u001b[0m\n\u001b[1;32m      2\u001b[0m     \u001b[0;31m# Get user input\u001b[0m\u001b[0;34m\u001b[0m\u001b[0;34m\u001b[0m\u001b[0m\n\u001b[0;32m----> 3\u001b[0;31m     \u001b[0mexpression\u001b[0m \u001b[0;34m=\u001b[0m \u001b[0minput\u001b[0m\u001b[0;34m(\u001b[0m\u001b[0;34m\"Enter a Python expression (or 'exit' to quit): \"\u001b[0m\u001b[0;34m)\u001b[0m\u001b[0;34m\u001b[0m\u001b[0;34m\u001b[0m\u001b[0m\n\u001b[0m\u001b[1;32m      4\u001b[0m \u001b[0;34m\u001b[0m\u001b[0m\n\u001b[1;32m      5\u001b[0m     \u001b[0;31m# Check for exit command\u001b[0m\u001b[0;34m\u001b[0m\u001b[0;34m\u001b[0m\u001b[0m\n",
            "\u001b[0;32m/usr/local/lib/python3.10/dist-packages/ipykernel/kernelbase.py\u001b[0m in \u001b[0;36mraw_input\u001b[0;34m(self, prompt)\u001b[0m\n\u001b[1;32m    849\u001b[0m                 \u001b[0;34m\"raw_input was called, but this frontend does not support input requests.\"\u001b[0m\u001b[0;34m\u001b[0m\u001b[0;34m\u001b[0m\u001b[0m\n\u001b[1;32m    850\u001b[0m             )\n\u001b[0;32m--> 851\u001b[0;31m         return self._input_request(str(prompt),\n\u001b[0m\u001b[1;32m    852\u001b[0m             \u001b[0mself\u001b[0m\u001b[0;34m.\u001b[0m\u001b[0m_parent_ident\u001b[0m\u001b[0;34m,\u001b[0m\u001b[0;34m\u001b[0m\u001b[0;34m\u001b[0m\u001b[0m\n\u001b[1;32m    853\u001b[0m             \u001b[0mself\u001b[0m\u001b[0;34m.\u001b[0m\u001b[0m_parent_header\u001b[0m\u001b[0;34m,\u001b[0m\u001b[0;34m\u001b[0m\u001b[0;34m\u001b[0m\u001b[0m\n",
            "\u001b[0;32m/usr/local/lib/python3.10/dist-packages/ipykernel/kernelbase.py\u001b[0m in \u001b[0;36m_input_request\u001b[0;34m(self, prompt, ident, parent, password)\u001b[0m\n\u001b[1;32m    893\u001b[0m             \u001b[0;32mexcept\u001b[0m \u001b[0mKeyboardInterrupt\u001b[0m\u001b[0;34m:\u001b[0m\u001b[0;34m\u001b[0m\u001b[0;34m\u001b[0m\u001b[0m\n\u001b[1;32m    894\u001b[0m                 \u001b[0;31m# re-raise KeyboardInterrupt, to truncate traceback\u001b[0m\u001b[0;34m\u001b[0m\u001b[0;34m\u001b[0m\u001b[0m\n\u001b[0;32m--> 895\u001b[0;31m                 \u001b[0;32mraise\u001b[0m \u001b[0mKeyboardInterrupt\u001b[0m\u001b[0;34m(\u001b[0m\u001b[0;34m\"Interrupted by user\"\u001b[0m\u001b[0;34m)\u001b[0m \u001b[0;32mfrom\u001b[0m \u001b[0;32mNone\u001b[0m\u001b[0;34m\u001b[0m\u001b[0;34m\u001b[0m\u001b[0m\n\u001b[0m\u001b[1;32m    896\u001b[0m             \u001b[0;32mexcept\u001b[0m \u001b[0mException\u001b[0m \u001b[0;32mas\u001b[0m \u001b[0me\u001b[0m\u001b[0;34m:\u001b[0m\u001b[0;34m\u001b[0m\u001b[0;34m\u001b[0m\u001b[0m\n\u001b[1;32m    897\u001b[0m                 \u001b[0mself\u001b[0m\u001b[0;34m.\u001b[0m\u001b[0mlog\u001b[0m\u001b[0;34m.\u001b[0m\u001b[0mwarning\u001b[0m\u001b[0;34m(\u001b[0m\u001b[0;34m\"Invalid Message:\"\u001b[0m\u001b[0;34m,\u001b[0m \u001b[0mexc_info\u001b[0m\u001b[0;34m=\u001b[0m\u001b[0;32mTrue\u001b[0m\u001b[0;34m)\u001b[0m\u001b[0;34m\u001b[0m\u001b[0;34m\u001b[0m\u001b[0m\n",
            "\u001b[0;31mKeyboardInterrupt\u001b[0m: Interrupted by user"
          ]
        }
      ]
    }
  ]
}