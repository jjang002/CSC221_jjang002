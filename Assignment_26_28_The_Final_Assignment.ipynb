{
  "nbformat": 4,
  "nbformat_minor": 0,
  "metadata": {
    "colab": {
      "provenance": []
    },
    "kernelspec": {
      "name": "python3",
      "display_name": "Python 3"
    },
    "language_info": {
      "name": "python"
    }
  },
  "cells": [
    {
      "cell_type": "code",
      "execution_count": null,
      "metadata": {
        "id": "gZZCHTNNW8MX"
      },
      "outputs": [],
      "source": [
        "# Cell 1: Demonstrate int, float, and string\n",
        "int_var = 5\n",
        "float_var = 3.14\n",
        "string_var = \"Hello, World!\""
      ]
    },
    {
      "cell_type": "code",
      "source": [
        "# Cell 2: Show how an f-string works\n",
        "something = \"awesome\"\n",
        "formatted_string = f'Something like this with {something} in it.'"
      ],
      "metadata": {
        "id": "ve-qoZKUW82X"
      },
      "execution_count": null,
      "outputs": []
    },
    {
      "cell_type": "code",
      "source": [
        "# Cell 3: Demonstrate some methods of the string class\n",
        "string_methods_example = \"python is fun\"\n",
        "upper_case = string_methods_example.upper()\n",
        "lower_case = string_methods_example.lower()"
      ],
      "metadata": {
        "id": "j_GZri68W_ot"
      },
      "execution_count": null,
      "outputs": []
    },
    {
      "cell_type": "code",
      "source": [
        "# Cell 4: Do something with a list\n",
        "my_list = [1, 2, 3, 4, 5]\n",
        "list_sum = sum(my_list)\n"
      ],
      "metadata": {
        "id": "tr22C-RnXA6I"
      },
      "execution_count": null,
      "outputs": []
    },
    {
      "cell_type": "code",
      "source": [
        "# Cell 5: Do something with a list of lists\n",
        "list_of_lists = [[1, 2, 3], [4, 5, 6], [7, 8, 9]]\n",
        "flat_list = [item for sublist in list_of_lists for item in sublist]"
      ],
      "metadata": {
        "id": "o9zpPeXlXCR4"
      },
      "execution_count": null,
      "outputs": []
    },
    {
      "cell_type": "code",
      "source": [
        "# Cell 6: Show how to print a list in sorted order without changing it.\n",
        "sorted_list = sorted(my_list)"
      ],
      "metadata": {
        "id": "-dcXwBd7XDqU"
      },
      "execution_count": null,
      "outputs": []
    },
    {
      "cell_type": "code",
      "source": [
        "# Cell 7: Printing a series of numbers using for and range\n",
        "for num in range(1, 6):\n",
        "    print(num)"
      ],
      "metadata": {
        "id": "v_39BcQHXGbJ"
      },
      "execution_count": null,
      "outputs": []
    },
    {
      "cell_type": "code",
      "source": [
        "# Cell 8: Printing a series of squares of all numbers from 1 to 1000 that are not multiples of 7 using list comprehension.\n",
        "squares_not_multiple_of_7 = [x**2 for x in range(1, 1001) if x % 7 != 0]"
      ],
      "metadata": {
        "id": "U2Q6CBqNXI02"
      },
      "execution_count": null,
      "outputs": []
    },
    {
      "cell_type": "code",
      "source": [
        "# Cell 9: Generating all of the prime numbers from 2 to 1000 using the Sieve of Eratosthenes\n",
        "def sieve_of_eratosthenes(n):\n",
        "    def sieve_of_eratosthenes(n):\n",
        "    primes = [True] * (n + 1)\n",
        "    primes[0] = primes[1] = False\n",
        "\n",
        "    for i in range(2, int(n**0.5) + 1):\n",
        "        if primes[i]:\n",
        "            for j in range(i * i, n + 1, i):\n",
        "                primes[j] = False\n",
        "\n",
        "    return [num for num, is_prime in enumerate(primes) if is_prime]\n",
        "\n",
        "primes_up_to_1000 = sieve_of_eratosthenes(1000)\n",
        "print(primes_up_to_1000)\n",
        "    pass"
      ],
      "metadata": {
        "id": "PbteobPqXKbf"
      },
      "execution_count": null,
      "outputs": []
    },
    {
      "cell_type": "code",
      "source": [
        "# Cell 10: Create a generator from your function above\n",
        "def sieve_of_eratosthenes_generator(n):\n",
        "    primes = [True] * (n + 1)\n",
        "    primes[0] = primes[1] = False\n",
        "\n",
        "    for i in range(2, int(n**0.5) + 1):\n",
        "        if primes[i]:\n",
        "            for j in range(i * i, n + 1, i):\n",
        "                primes[j] = False\n",
        "\n",
        "    for num, is_prime in enumerate(primes):\n",
        "        if is_prime:\n",
        "            yield num\n",
        "\n",
        "my_prime_generator = sieve_of_eratosthenes_generator(1000)\n",
        "for x in my_prime_generator:\n",
        "    print(x)"
      ],
      "metadata": {
        "id": "24Nu1qoPYEkI"
      },
      "execution_count": null,
      "outputs": []
    },
    {
      "cell_type": "code",
      "source": [
        "# Cell 11: Generate 1000 random integers in a list and print their min, max, sum, and average.\n",
        "import random\n",
        "\n",
        "random_integers = [random.randint(1, 100) for _ in range(1000)]\n",
        "min_value = min(random_integers)\n",
        "max_value = max(random_integers)\n",
        "sum_value = sum(random_integers)\n",
        "average_value = sum_value / len(random_integers)"
      ],
      "metadata": {
        "id": "fUi1fGC7YQY_"
      },
      "execution_count": null,
      "outputs": []
    },
    {
      "cell_type": "code",
      "source": [
        "# Cell 12: Write a simple function that uses if, elif, and else\n",
        "def classify_number(number):\n",
        "    if number > 0:\n",
        "        return \"Positive\"\n",
        "    elif number < 0:\n",
        "        return \"Negative\"\n",
        "    else:\n",
        "        return \"Zero\""
      ],
      "metadata": {
        "id": "2vAXTcPbYUbT"
      },
      "execution_count": null,
      "outputs": []
    },
    {
      "cell_type": "code",
      "source": [
        "#Cell 13: Show me three things from PEP-8 that surprise you\n",
        "def test_function (A, B):\n",
        "  C = A + B\n",
        "  D = A - B\n",
        "  return C, D\n",
        "\n",
        " Class Test_class:\n",
        "  def __init__ (self, A, B):\n",
        "    self.A = A\n",
        "    self.B = B\n",
        "\n",
        " def Test_def (self):\n",
        "  return self.A + self.B"
      ],
      "metadata": {
        "id": "YEC9m-WQYmOG"
      },
      "execution_count": null,
      "outputs": []
    },
    {
      "cell_type": "code",
      "source": [
        "# Cell 14: Create a file using %%file testfile.txt\n",
        "%%file testfile.txt\n",
        "Amy, cat\n",
        "Fred, dog\n",
        "Hunter, dog\n",
        "Peena, parakeet\n",
        "Rover, dog"
      ],
      "metadata": {
        "id": "Q6LJ9AfAY1MZ"
      },
      "execution_count": null,
      "outputs": []
    },
    {
      "cell_type": "code",
      "source": [
        "# Cell 15: Read that file in and convert it to a dictionary.\n",
        "with open('testfile.txt') as file:\n",
        "    pet_dictionary = dict(line.strip().split(', ') for line in file)\n"
      ],
      "metadata": {
        "id": "0nE3X1LhY6Ke"
      },
      "execution_count": null,
      "outputs": []
    },
    {
      "cell_type": "code",
      "source": [
        "# Cell 16: Generate a list of all the unique pet types in the dictionary.\n",
        "unique_pet_types = set(pet_type for _, pet_type in pet_dictionary.values())"
      ],
      "metadata": {
        "id": "XJxLlG4CY8j4"
      },
      "execution_count": null,
      "outputs": []
    },
    {
      "cell_type": "code",
      "source": [
        "# Cell 17: Use a while loop to print the numbers from 80 down to 16 by 8.\n",
        "num = 80\n",
        "while num >= 16:\n",
        "    print(num)\n",
        "    num -= 8"
      ],
      "metadata": {
        "id": "kR4uiSlbY-oH"
      },
      "execution_count": null,
      "outputs": []
    },
    {
      "cell_type": "code",
      "source": [
        "# Cell 18: Write a function that takes three numbers and returns their min, max, and sum as a tuple.\n",
        "def min_max_sum_tuple(a, b, c):\n",
        "    return min(a, b, c), max(a, b, c), a + b + c"
      ],
      "metadata": {
        "id": "_gTEAK_tZACp"
      },
      "execution_count": null,
      "outputs": []
    },
    {
      "cell_type": "code",
      "source": [
        "# Cell 19: Write a function that takes any number of numbers and returns their min, max, and sum as a tuple.\n",
        "def min_max_sum_tuple_var_args(*numbers):\n",
        "    return min(numbers), max(numbers), sum(numbers)"
      ],
      "metadata": {
        "id": "n8ksa6IhZBf2"
      },
      "execution_count": null,
      "outputs": []
    },
    {
      "cell_type": "code",
      "source": [
        "# Cell 20: Create a decorator called traceroo\n",
        "def traceroo(func):\n",
        "    def wrapper(*args, **kwargs):\n",
        "        print(f\"Executing function {func.__name__} with arguments {args} and keyword arguments {kwargs}.\")\n",
        "        result = func(*args, **kwargs)\n",
        "        print(f\"Function {func.__name__} execution completed. Result: {result}.\")\n",
        "        return result\n",
        "    return wrapper"
      ],
      "metadata": {
        "id": "Wt11-D76ZDOD"
      },
      "execution_count": null,
      "outputs": []
    },
    {
      "cell_type": "code",
      "source": [
        "# Cell 21: Create a class that uses __init__, __repr__, __str__, and __add__\n",
        "class MyClass:\n",
        "    def __init__(self, value):\n",
        "        self.value = value\n",
        "\n",
        "    def __repr__(self):\n",
        "        return f\"MyClass({self.value})\"\n",
        "\n",
        "    def __str__(self):\n",
        "        return f\"Value: {self.value}\"\n",
        "\n",
        "    def __add__(self, other):\n",
        "        return MyClass(self.value + other.value)"
      ],
      "metadata": {
        "id": "YG26PE5OZE2f"
      },
      "execution_count": null,
      "outputs": []
    },
    {
      "cell_type": "code",
      "source": [
        "#Cell 22: Is your birth date included in the digits of pi? Where? Feel free to use the code from Chapter 10.\n",
        "from mpmath import mp\n",
        "\n",
        "def find_birth_date_in_pi(birth_date):\n",
        "    pi_digits = str(mp.pi)[2:]\n",
        "\n",
        "    index = pi_digits.find(birth_date)\n",
        "\n",
        "    return index\n",
        "\n",
        "\n",
        "birth_date = \"0527\"\n",
        "\n",
        "index = find_birth_date_in_pi(birth_date)\n",
        "\n",
        "if index != -1:\n",
        "    print(f\"Your birth date {birth_date} is found in the digits of pi, starting at position {index}.\")\n",
        "else:\n",
        "    print(f\"Your birth date {birth_date} is not found in the digits of pi.\")"
      ],
      "metadata": {
        "id": "hUAUKR_8ZHQj"
      },
      "execution_count": null,
      "outputs": []
    },
    {
      "cell_type": "code",
      "source": [
        "# %%file final_functions.py\n",
        "\n",
        "# final_functions.py\n",
        "\n",
        "def sieve_of_eratosthenes(n):\n",
        "    primes = [True] * (n + 1)\n",
        "    primes[0] = primes[1] = False\n",
        "\n",
        "    for i in range(2, int(n**0.5) + 1):\n",
        "        if primes[i]:\n",
        "            for j in range(i * i, n + 1, i):\n",
        "                primes[j] = False\n",
        "\n",
        "    return [num for num, is_prime in enumerate(primes) if is_prime]\n",
        "\n",
        "def min_max_sum_tuple(a, b, c):\n",
        "    return min(a, b, c), max(a, b, c), a + b + c\n",
        "\n",
        "def find_birth_date_in_pi(birth_date):\n",
        "    from mpmath import mp\n",
        "    pi_digits = str(mp.pi)[2:]\n",
        "    index = pi_digits.find(birth_date)\n",
        "    return index"
      ],
      "metadata": {
        "id": "W6-xE3-iZz2g"
      },
      "execution_count": null,
      "outputs": []
    },
    {
      "cell_type": "code",
      "source": [
        "# final.py\n",
        "from final_functions import sieve_of_eratosthenes, min_max_sum_tuple, find_birth_date_in_pi\n",
        "\n",
        "# Exercise the functions\n",
        "primes_up_to_10 = sieve_of_eratosthenes(10)\n",
        "print(\"Primes up to 10:\", primes_up_to_10)\n",
        "\n",
        "result_tuple = min_max_sum_tuple(2, 5, 3)\n",
        "print(\"Min, max, sum tuple:\", result_tuple)\n",
        "\n",
        "index = find_birth_date_in_pi(\"0527\")\n",
        "print(\"Birth date in pi at index:\", index)"
      ],
      "metadata": {
        "id": "cbYHGSVWaFLA"
      },
      "execution_count": null,
      "outputs": []
    },
    {
      "cell_type": "code",
      "source": [
        "# %%file test_final.py\n",
        "\n",
        "# test_final.py\n",
        "from final_functions import sieve_of_eratosthenes, min_max_sum_tuple, find_birth_date_in_pi\n",
        "import pytest\n",
        "\n",
        "def test_sieve_of_eratosthenes():\n",
        "    assert sieve_of_eratosthenes(10) == [2, 3, 5, 7]\n",
        "    assert sieve_of_eratosthenes(20) == [2, 3, 5, 7, 11, 13, 17, 19]\n",
        "\n",
        "def test_min_max_sum_tuple():\n",
        "    assert min_max_sum_tuple(2, 5, 3) == (2, 5, 10)\n",
        "    assert min_max_sum_tuple(-1, 0, 1) == (-1, 1, 0)\n",
        "\n",
        "def test_find_birth_date_in_pi():\n",
        "    assert find_birth_date_in_pi(\"0527\") != -1\n",
        "    assert find_birth_date_in_pi(\"1231\") == -1\n",
        "\n",
        "# Run the tests\n",
        "if __name__ == \"__main__\":\n",
        "    pytest.main(['test_final.py'])"
      ],
      "metadata": {
        "id": "F5e2snbkaIZw"
      },
      "execution_count": null,
      "outputs": []
    }
  ]
}